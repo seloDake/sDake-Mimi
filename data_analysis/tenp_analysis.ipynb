{
 "cells": [
  {
   "attachments": {},
   "cell_type": "markdown",
   "metadata": {},
   "source": [
    "# Temp Data Analysis\n"
   ]
  },
  {
   "attachments": {},
   "cell_type": "markdown",
   "metadata": {},
   "source": [
    "These are essentials for running the program. This Notebook is for analyzing temperature data from RCP8.5 projections.\n",
    "The csv of data being ran should have year values in the first column headed year. This is essential for the program to run properly."
   ]
  },
  {
   "cell_type": "code",
   "execution_count": 1,
   "metadata": {},
   "outputs": [],
   "source": [
    "#initiate Model\n",
    "using CSV\n",
    "using DataFrames\n",
    "using Plots\n",
    "using KernelDensity\n"
   ]
  },
  {
   "attachments": {},
   "cell_type": "markdown",
   "metadata": {},
   "source": [
    "After initiating the packages we will use we need to open and read the data."
   ]
  },
  {
   "cell_type": "code",
   "execution_count": 10,
   "metadata": {},
   "outputs": [],
   "source": [
    "dft85 = CSV.read(\"updated_projections_temperature_RCP85_sneasybrick.csv\", DataFrame)\n",
    "dft60 = CSV.read(\"updated_projections_temperature_RCP60_sneasybrick.csv\", DataFrame)\n",
    "dft45 = CSV.read(\"updated_projections_temperature_RCP45_sneasybrick.csv\", DataFrame)\n",
    "dft26 = CSV.read(\"updated_projections_temperature_RCP26_sneasybrick.csv\", DataFrame)\n",
    "dfg45 = CSV.read(\"updated_projections_gmsl_RCP45_sneasybrick.csv\", DataFrame)"
   ]
  },
  {
   "attachments": {},
   "cell_type": "markdown",
   "metadata": {},
   "source": [
    "Open the respective components of sealevelrise csv's."
   ]
  },
  {
   "cell_type": "code",
   "execution_count": null,
   "metadata": {},
   "outputs": [],
   "source": [
    "# GIS files\n",
    "gis85 = CSV.read(\"dataFiles\\\\RCP85\\\\updated_projections_greenland_RCP85_sneasybrick.csv\", DataFrame)\n",
    "gis60 = CSV.read(\"dataFiles\\\\RCP60\\\\updated_projections_greenland_RCP60_sneasybrick.csv\", DataFrame)\n",
    "gis45 = CSV.read(\"dataFiles\\\\RCP45\\\\updated_projections_greenland_RCP45_sneasybrick.csv\", DataFrame)\n",
    "gis26 = CSV.read(\"dataFiles\\\\RCP26\\\\updated_projections_greenland_RCP26_sneasybrick.csv\", DataFrame)"
   ]
  },
  {
   "cell_type": "code",
   "execution_count": null,
   "metadata": {},
   "outputs": [],
   "source": [
    "# AIS files\n",
    "ais85 = CSV.read(\"dataFiles\\\\RCP85\\\\updated_projections_antarctic_RCP85_sneasybrick.csv\", DataFrame)\n",
    "ais60 = CSV.read(\"dataFiles\\\\RCP60\\\\updated_projections_antarctic_RCP60_sneasybrick.csv\", DataFrame)\n",
    "ais45 = CSV.read(\"dataFiles\\\\RCP45\\\\updated_projections_antarctic_RCP45_sneasybrick.csv\", DataFrame)\n",
    "ais26 = CSV.read(\"dataFiles\\\\RCP26\\\\updated_projections_antarctic_RCP26_sneasybrick.csv\", DataFrame)"
   ]
  },
  {
   "cell_type": "code",
   "execution_count": null,
   "metadata": {},
   "outputs": [],
   "source": [
    "# LWS files\n",
    "lws85 = CSV.read(\"dataFiles\\\\RCP85\\\\updated_projections_landwater_storage_sl_RCP85_sneasybrick.csv\", DataFrame)\n",
    "lws60 = CSV.read(\"dataFiles\\\\RCP60\\\\updated_projections_landwater_storage_sl_RCP60_sneasybrick.csv\", DataFrame)\n",
    "lws45 = CSV.read(\"dataFiles\\\\RCP45\\\\updated_projections_landwater_storage_sl_RCP45_sneasybrick.csv\", DataFrame)\n",
    "lws26 = CSV.read(\"dataFiles\\\\RCP26\\\\updated_projections_landwater_storage_sl_RCP26_sneasybrick.csv\", DataFrame)"
   ]
  },
  {
   "cell_type": "code",
   "execution_count": null,
   "metadata": {},
   "outputs": [],
   "source": [
    "# GIC files\n",
    "gic85 = CSV.read(\"dataFiles\\\\RCP85\\\\updated_projections_glaciers_RCP85_sneasybrick.csv\", DataFrame)\n",
    "gic60 = CSV.read(\"dataFiles\\\\RCP60\\\\updated_projections_glaciers_RCP60_sneasybrick.csv\", DataFrame)\n",
    "gic45 = CSV.read(\"dataFiles\\\\RCP45\\\\updated_projections_glaciers_RCP45_sneasybrick.csv\", DataFrame)\n",
    "gic26 = CSV.read(\"dataFiles\\\\RCP26\\\\updated_projections_glaciers_RCP26_sneasybrick.csv\", DataFrame)"
   ]
  },
  {
   "cell_type": "code",
   "execution_count": null,
   "metadata": {},
   "outputs": [],
   "source": [
    "# TE files\n",
    "te85 = CSV.read(\"dataFiles\\\\RCP85\\\\updated_projections_thermal_RCP85_sneasybrick.csv\", DataFrame)\n",
    "te60 = CSV.read(\"dataFiles\\\\RCP60\\\\updated_projections_thermal_RCP60_sneasybrick.csv\", DataFrame)\n",
    "te45 = CSV.read(\"dataFiles\\\\RCP45\\\\updated_projections_thermal_RCP45_sneasybrick.csv\", DataFrame)\n",
    "te26 = CSV.read(\"dataFiles\\\\RCP26\\\\updated_projections_thermal_RCP26_sneasybrick.csv\", DataFrame)"
   ]
  },
  {
   "attachments": {},
   "cell_type": "markdown",
   "metadata": {},
   "source": [
    "## Primary Run"
   ]
  },
  {
   "attachments": {},
   "cell_type": "markdown",
   "metadata": {},
   "source": [
    "First we set our index variables."
   ]
  },
  {
   "cell_type": "code",
   "execution_count": null,
   "metadata": {},
   "outputs": [],
   "source": [
    "colr = collect(2:ncol(dft85))\n",
    "rowr = collect(1:nrow(dft85))"
   ]
  },
  {
   "attachments": {},
   "cell_type": "markdown",
   "metadata": {},
   "source": [
    "Then we solve for when find the rows within the timeframe of the years selected."
   ]
  },
  {
   "cell_type": "code",
   "execution_count": null,
   "metadata": {},
   "outputs": [],
   "source": [
    "#create array list to house all years within the norm period\n",
    "normp = []\n",
    "#set normalization period\n",
    "for r in rowr\n",
    "    if 1850 <= dft85[r,:year] <= 1900\n",
    "        push!(normp, r)\n",
    "    end\n",
    "end "
   ]
  },
  {
   "attachments": {},
   "cell_type": "markdown",
   "metadata": {},
   "source": [
    "Next, we index through each temperature of the n ormalization period for each trial and collect their value."
   ]
  },
  {
   "cell_type": "code",
   "execution_count": null,
   "metadata": {},
   "outputs": [],
   "source": [
    "# Set the index and array to solve for normalized value\n",
    "sarray = []\n",
    "i = 0\n",
    "\n",
    "# Add each value to a sum\n",
    "for r in normp\n",
    "    for c in colr\n",
    "        push!(sarray, dft85[r, c])\n",
    "        i += 1\n",
    "    end\n",
    "end\n",
    "sarray[1]"
   ]
  },
  {
   "attachments": {},
   "cell_type": "markdown",
   "metadata": {},
   "source": [
    "Next we find the mean."
   ]
  },
  {
   "cell_type": "code",
   "execution_count": null,
   "metadata": {},
   "outputs": [],
   "source": [
    "# Collect the sum\n",
    "summ = 0\n",
    "for t in collect(1:i)\n",
    "    summ += sarray[t]\n",
    "end\n",
    "# Divide by the number of terms(i)\n",
    "avg = summ / i\n"
   ]
  },
  {
   "attachments": {},
   "cell_type": "markdown",
   "metadata": {},
   "source": [
    "Next we noramlize the data for each instance."
   ]
  },
  {
   "cell_type": "code",
   "execution_count": null,
   "metadata": {},
   "outputs": [],
   "source": [
    "# change the value for each instance after the first 50 years\n",
    "for r in rowr\n",
    "    for c in colr\n",
    "        dft85[r, c] = (dft85[r, c] - avg)\n",
    "    end\n",
    "end\n",
    "dft85"
   ]
  },
  {
   "attachments": {},
   "cell_type": "markdown",
   "metadata": {},
   "source": [
    "Now to prep for graphing we create a empty dict to hold all the results each year."
   ]
  },
  {
   "cell_type": "code",
   "execution_count": null,
   "metadata": {},
   "outputs": [],
   "source": [
    "yearVals = Dict{Any, Any}()\n",
    "print(\"Dict values = \", yearVals)"
   ]
  },
  {
   "attachments": {},
   "cell_type": "markdown",
   "metadata": {},
   "source": [
    "Next we determine the year 2100 in the df."
   ]
  },
  {
   "cell_type": "code",
   "execution_count": null,
   "metadata": {},
   "outputs": [],
   "source": [
    "#Set year we are looking for and initiate row\n",
    "yr = 2100\n",
    "rw = 0\n",
    "#claculate what row we are looking for\n",
    "for r in rowr\n",
    "    if dft85[r,:year] == yr\n",
    "        rw = r\n",
    "    end\n",
    "end\n",
    "rw"
   ]
  },
  {
   "attachments": {},
   "cell_type": "markdown",
   "metadata": {},
   "source": [
    "Now we store all the values from that row into the yearVals Dict"
   ]
  },
  {
   "cell_type": "code",
   "execution_count": null,
   "metadata": {},
   "outputs": [],
   "source": [
    "x2100 = []\n",
    "for c in colr\n",
    "    push!(x2100, dft85[rw, c])\n",
    "end\n",
    "x2100"
   ]
  },
  {
   "attachments": {},
   "cell_type": "markdown",
   "metadata": {},
   "source": [
    "Make the histogram."
   ]
  },
  {
   "cell_type": "code",
   "execution_count": null,
   "metadata": {},
   "outputs": [],
   "source": [
    "\n",
    "histogram(x2100, label = \"RCP 8.5\")\n",
    "title!(\"Distribution of Temp Change values: yr 2100\")\n",
    "xlabel!(\"Value of temp change\")\n",
    "ylabel!(\"Num of trials \")\n",
    "     "
   ]
  },
  {
   "attachments": {},
   "cell_type": "markdown",
   "metadata": {},
   "source": [
    "## Generalization of Primary"
   ]
  },
  {
   "attachments": {},
   "cell_type": "markdown",
   "metadata": {},
   "source": [
    "general function to do all of this."
   ]
  },
  {
   "cell_type": "code",
   "execution_count": null,
   "metadata": {},
   "outputs": [],
   "source": [
    "function genp(dft, yr, ns, ne)\n",
    "    #set boundaries\n",
    "    colr = collect(2:ncol(dft))\n",
    "    rowr = collect(1:nrow(dft))\n",
    "\n",
    "    #create array list to house all years within the norm period\n",
    "    normp = []\n",
    "    #set normalization period\n",
    "    for r in rowr\n",
    "        if ns <= dft[r,:year] <= ne\n",
    "            push!(normp, r)\n",
    "        end\n",
    "    end\n",
    "    \n",
    "    # Set the index and array to solve for normalized value\n",
    "    sarray = []\n",
    "    i = 0\n",
    "\n",
    "    # Add each value to a sum\n",
    "    for r in normp\n",
    "        for c in colr\n",
    "            push!(sarray, dft[r, c])\n",
    "            i += 1\n",
    "        end\n",
    "    end\n",
    "\n",
    "    # Collect the sum\n",
    "    summ = 0\n",
    "    for t in collect(1:i)\n",
    "        summ += sarray[t]\n",
    "    end\n",
    "    # Divide by the number of terms(i)\n",
    "    avg = summ / i\n",
    "\n",
    "    # change the value for each instance\n",
    "    for r in rowr\n",
    "        for c in colr\n",
    "            dft[r, c] = (dft[r, c] - avg)\n",
    "        end\n",
    "    end\n",
    "\n",
    "    #initiate row\n",
    "    rw = 0\n",
    "    #claculate what row we are looking for\n",
    "    for r in rowr\n",
    "        if dft[r,:year] == yr\n",
    "            rw = r\n",
    "        end\n",
    "    end\n",
    "\n",
    "    x = []\n",
    "    for c in colr\n",
    "        push!(x, dft[rw, c])\n",
    "    end\n",
    "\n",
    "    return x\n",
    "end"
   ]
  },
  {
   "attachments": {},
   "cell_type": "markdown",
   "metadata": {},
   "source": [
    "run function with different rcps for same year, create variable to house result."
   ]
  },
  {
   "cell_type": "code",
   "execution_count": null,
   "metadata": {},
   "outputs": [],
   "source": [
    "r85 = Vector{Float64}(genp(dft85, 2100, 1850, 1900))\n",
    "r60 = Vector{Float64}(genp(dft60, 2100,1850, 1900))\n",
    "r45 = Vector{Float64}(genp(dft45, 2100, 1850, 1900))\n",
    "r26 = Vector{Float64}(genp(dft26, 2100,1850, 1900))\n",
    "\n"
   ]
  },
  {
   "attachments": {},
   "cell_type": "markdown",
   "metadata": {},
   "source": [
    "Create a gen function for historgrams"
   ]
  },
  {
   "cell_type": "code",
   "execution_count": null,
   "metadata": {},
   "outputs": [],
   "source": [
    "function histg(data, rcp, tyear, op)\n",
    "    darray = []\n",
    "    #initiate hist array\n",
    "    for t in collect(1:length(data))\n",
    "        push!(darray, data[t])\n",
    "    end\n",
    "\n",
    "    #make histogram\n",
    "    graph = histogram(darray, label = string(\"RCP \",rcp), opacity = op)\n",
    "    title!(string(\"Distribution of Temp Change values: yr \",tyear))\n",
    "    xlabel!(\"Value of temp change\")\n",
    "    ylabel!(\"Num of trials \")\n",
    "    return graph\n",
    "end"
   ]
  },
  {
   "cell_type": "code",
   "execution_count": null,
   "metadata": {},
   "outputs": [],
   "source": [
    "\n",
    "h4 = histg(r45, 4.5, 2100, 1)\n",
    "h8 = histg(r85, 8.5, 2100, 1)\n",
    "h2 = histg(r26, 2.6, 2100, 1)\n",
    "h6 = histg(r60, 6.0, 2100, 1) "
   ]
  },
  {
   "cell_type": "code",
   "execution_count": null,
   "metadata": {},
   "outputs": [],
   "source": [
    "k26 = kde(r26)\n",
    "k45 = kde(r45)\n",
    "k85 = kde(r85)\n",
    "k60 = kde(r60)"
   ]
  },
  {
   "cell_type": "code",
   "execution_count": null,
   "metadata": {},
   "outputs": [],
   "source": [
    "p = plot(k85.x, k85.density, label = \"RCP 8.5\", fill = (0, 0.5), color = :maroon)\n",
    "plot!(p, k60.x, k60.density, label = \"RCP 6.0\", fill = (0, 0.5), color = :chocolate)\n",
    "plot!(p, k45.x, k45.density, label = \"RCP 4.5\", fill = (0, 0.5), color = :dodgerblue)\n",
    "plot!(p, k26.x, k26.density, label = \"RCP 2.6\", fill = (0, 0.5), color = :blue)\n",
    "title!(string(\"Distribution of Temp Change values: yr 2100\"))\n",
    "xlabel!(\"Value of temp change(C)\")\n",
    "ylabel!(\"Density\")\n",
    "\n",
    "\n"
   ]
  },
  {
   "attachments": {},
   "cell_type": "markdown",
   "metadata": {},
   "source": [
    "## Threshold work"
   ]
  },
  {
   "attachments": {},
   "cell_type": "markdown",
   "metadata": {},
   "source": [
    "### Collect Column Names"
   ]
  },
  {
   "attachments": {},
   "cell_type": "markdown",
   "metadata": {},
   "source": [
    "create a function to find the all trials that pass that threshold."
   ]
  },
  {
   "cell_type": "code",
   "execution_count": null,
   "metadata": {},
   "outputs": [],
   "source": [
    "\n",
    "\n",
    "function thresh(tdf, tcha, yr_t)\n",
    "    #create dict to house all colomn names and column values that pass within the threshhold\n",
    "    colnames = Dict{Any, Any}()\n",
    "    #set boundaries\n",
    "    colr = collect(2:ncol(tdf))\n",
    "    rowr = collect(1:nrow(tdf))\n",
    "    # find the row for threshhold year\n",
    "    tr = 0\n",
    "    for r in rowr\n",
    "        if tdf[r, 1] == yr_t\n",
    "            tr = r\n",
    "        end\n",
    "    end\n",
    "    # new row boundary\n",
    "    rowt = collect(1:tr)\n",
    "\n",
    "    for c in colr\n",
    "        t = true\n",
    "        for r in rowt\n",
    "            if tdf[r, c] >= tcha\n",
    "                t = false\n",
    "            end\n",
    "        end\n",
    "        if t == true\n",
    "            merge!(colnames, Dict(names(tdf, c)=> c))\n",
    "        end\n",
    "    end\n",
    "    return colnames\n",
    "end"
   ]
  },
  {
   "attachments": {},
   "cell_type": "markdown",
   "metadata": {},
   "source": [
    "Using RCP 4.5 data Check the values for 3, 2, and 1.5 degree increase"
   ]
  },
  {
   "cell_type": "code",
   "execution_count": null,
   "metadata": {},
   "outputs": [],
   "source": [
    "tres = thresh(dft45, 3, 2100)\n",
    "dos = thresh(dft45, 2, 2100)\n",
    "uno = thresh(dft45, 1.5, 2100)"
   ]
  },
  {
   "attachments": {},
   "cell_type": "markdown",
   "metadata": {},
   "source": [
    "### Ready the Sealevel Rise Data"
   ]
  },
  {
   "attachments": {},
   "cell_type": "markdown",
   "metadata": {},
   "source": [
    "Normalize the sealevel data"
   ]
  },
  {
   "cell_type": "code",
   "execution_count": null,
   "metadata": {},
   "outputs": [],
   "source": [
    "function norm(df, ns, ne)\n",
    "    #set boundaries\n",
    "    colr = collect(2:ncol(df))\n",
    "    rowr = collect(1:nrow(df))\n",
    "\n",
    "    #create array list to house all years within the norm period\n",
    "    normp = []\n",
    "    #set normalization period\n",
    "    for r in rowr\n",
    "        if ns <= df[r,:year] <= ne\n",
    "            push!(normp, r)\n",
    "        end\n",
    "    end\n",
    "    \n",
    "    # Set the index and array to solve for normalized value\n",
    "    sarray = []\n",
    "    i = 0\n",
    "\n",
    "    # Add each value to a sum\n",
    "    for r in normp\n",
    "        for c in colr\n",
    "            push!(sarray, df[r, c])\n",
    "            i += 1\n",
    "        end\n",
    "    end\n",
    "\n",
    "    # Collect the sum\n",
    "    summ = 0\n",
    "    for t in collect(1:i)\n",
    "        summ += sarray[t]\n",
    "    end\n",
    "    # Divide by the number of terms(i)\n",
    "    avg = summ / i\n",
    "    \n",
    "    # change the value for each instance\n",
    "    for r in rowr\n",
    "        for c in colr\n",
    "            df[r, c] = (df[r, c] - avg)\n",
    "        end\n",
    "    end\n",
    "    return df\n",
    "end"
   ]
  },
  {
   "attachments": {},
   "cell_type": "markdown",
   "metadata": {},
   "source": [
    "Chech with sealeavel rise data"
   ]
  },
  {
   "cell_type": "code",
   "execution_count": null,
   "metadata": {},
   "outputs": [],
   "source": [
    "norm(dfg45,1995,2014)"
   ]
  },
  {
   "attachments": {},
   "cell_type": "markdown",
   "metadata": {},
   "source": [
    "### Get Values and Plot"
   ]
  },
  {
   "attachments": {},
   "cell_type": "markdown",
   "metadata": {},
   "source": [
    "create function to get values of sealevel rise for columns underneath the threshold"
   ]
  },
  {
   "cell_type": "code",
   "execution_count": null,
   "metadata": {},
   "outputs": [],
   "source": [
    "function valu(df, cnames, tyr)\n",
    "    #set boundaries\n",
    "    colr = collect(2:ncol(df))\n",
    "    rowr = collect(1:nrow(df))\n",
    "    \n",
    "    vals = [] # this will house the values\n",
    "\n",
    "    #initiate row\n",
    "    rw = 0\n",
    "    #calculate what row we are looking for\n",
    "    for r in rowr\n",
    "        if df[r,:year] == tyr\n",
    "            rw = r\n",
    "        end\n",
    "    end\n",
    "\n",
    "    for i in collect(values(cnames))\n",
    "        push!(vals, df[rw, i])\n",
    "    end\n",
    "    return vals\n",
    "\n",
    "end"
   ]
  },
  {
   "attachments": {},
   "cell_type": "markdown",
   "metadata": {},
   "source": [
    "Grab the values for the three thresholds"
   ]
  },
  {
   "cell_type": "code",
   "execution_count": null,
   "metadata": {},
   "outputs": [],
   "source": [
    "t3 = Vector{Float64}(valu(dfg45, tres, 2100))\n",
    "t2 = Vector{Float64}(valu(dfg45, dos, 2100))\n",
    "t1 = Vector{Float64}(valu(dfg45, uno, 2100))"
   ]
  },
  {
   "attachments": {},
   "cell_type": "markdown",
   "metadata": {},
   "source": [
    "grab their kde"
   ]
  },
  {
   "cell_type": "code",
   "execution_count": null,
   "metadata": {},
   "outputs": [],
   "source": [
    "kd3 = kde(t3)\n",
    "kd2 = kde(t2)\n",
    "kd1 = kde(t1)"
   ]
  },
  {
   "attachments": {},
   "cell_type": "markdown",
   "metadata": {},
   "source": [
    "Plot!!!"
   ]
  },
  {
   "cell_type": "code",
   "execution_count": null,
   "metadata": {},
   "outputs": [],
   "source": [
    "p = plot(kd3.x, kd3.density, label = \"Thresh 3\", fill = (0, 0.5))\n",
    "plot!(p, kd2.x, kd2.density, label = \"Thresh 2\", fill = (0, 0.5))\n",
    "plot!(p, kd1.x, kd1.density, label = \"Thresh 1.5\", fill = (0, 0.5))# wierd cuz 1.5 has just one value\n",
    "title!(string(\"RCP 4.5 Distribution of Sealevel Change: yr 2100\"))\n",
    "xlabel!(\"Value of sealevel change(m)\")\n",
    "ylabel!(\"Density\")"
   ]
  },
  {
   "attachments": {},
   "cell_type": "markdown",
   "metadata": {},
   "source": [
    "## CSV with Results"
   ]
  },
  {
   "attachments": {},
   "cell_type": "markdown",
   "metadata": {},
   "source": [
    "This is where I will pool the results from each RCP scenario for each Threshold(initially 2 and 3 degrees)"
   ]
  },
  {
   "cell_type": "code",
   "execution_count": null,
   "metadata": {},
   "outputs": [],
   "source": [
    "#calculate the diff values for threshhold 2 and three\n",
    "etres = thresh(dft85, 3, 2100)\n",
    "edos = thresh(dft85, 2, 2100)\n",
    "stres = thresh(dft60, 3, 2100)\n",
    "sdos = thresh(dft60, 2, 2100)\n",
    "ttres = thresh(dft26, 3, 2100)\n",
    "tdos = thresh(dft26, 2, 2100)\n",
    "tres # rcp4.5 threshold three\n",
    "dos # rcp4.5 threshold two"
   ]
  },
  {
   "cell_type": "code",
   "execution_count": null,
   "metadata": {},
   "outputs": [],
   "source": [
    "# get values from respective files for GIS"
   ]
  }
 ],
 "metadata": {
  "kernelspec": {
   "display_name": "Julia 1.6.7",
   "language": "julia",
   "name": "julia-1.6"
  },
  "language_info": {
   "file_extension": ".jl",
   "mimetype": "application/julia",
   "name": "julia",
   "version": "1.6.7"
  },
  "orig_nbformat": 4
 },
 "nbformat": 4,
 "nbformat_minor": 2
}
