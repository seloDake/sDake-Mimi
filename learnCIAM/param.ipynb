{
 "cells": [
  {
   "cell_type": "markdown",
   "metadata": {},
   "source": [
    "This Doc is for learning to edit parameters."
   ]
  },
  {
   "cell_type": "code",
   "execution_count": null,
   "metadata": {},
   "outputs": [],
   "source": [
    "#initiate Model\n",
    "using Mimi\n",
    "using MimiCIAM\n",
    "using Plots"
   ]
  },
  {
   "cell_type": "markdown",
   "metadata": {},
   "source": [
    "Run the default model"
   ]
  },
  {
   "cell_type": "code",
   "execution_count": null,
   "metadata": {},
   "outputs": [],
   "source": [
    "#run default Model\n",
    "m5 = MimiCIAM.get_model()\n",
    "run(m5)"
   ]
  },
  {
   "cell_type": "markdown",
   "metadata": {},
   "source": [
    "Representing this data on a plot or with the explore function would be messy due to the data indexing over both time and location(segments)."
   ]
  },
  {
   "cell_type": "code",
   "execution_count": null,
   "metadata": {},
   "outputs": [],
   "source": [
    "plot(m5[:slrcost,:NoAdaptCost])"
   ]
  },
  {
   "cell_type": "markdown",
   "metadata": {},
   "source": [
    " So instead we will pick the data of one parameter or variable at a time and plot using the plot function."
   ]
  },
  {
   "cell_type": "code",
   "execution_count": null,
   "metadata": {},
   "outputs": [],
   "source": [
    "plot(m5[:slrcost, :Construct][:,1,:])"
   ]
  },
  {
   "cell_type": "code",
   "execution_count": null,
   "metadata": {},
   "outputs": [],
   "source": [
    "plot(m5[:slrcost,:discountfactor])"
   ]
  },
  {
   "cell_type": "markdown",
   "metadata": {},
   "source": [
    "Update the mc and discount rate parameters using the params function."
   ]
  },
  {
   "cell_type": "code",
   "execution_count": null,
   "metadata": {},
   "outputs": [],
   "source": [
    "param = Dict{Any,Any}()\n",
    "param[(:slrcost, :discountrate)] = .025\n",
    "param[(:slrcost, :mc)] = 5\n",
    "update_params!(m5, param)\n",
    "run(m5)"
   ]
  },
  {
   "cell_type": "markdown",
   "metadata": {},
   "source": [
    "Relook at results. The change in mc affected the construct variable. The change is noted by the change in y-axis."
   ]
  },
  {
   "cell_type": "code",
   "execution_count": null,
   "metadata": {},
   "outputs": [],
   "source": [
    "plot(m5[:slrcost,:NoAdaptCost])"
   ]
  },
  {
   "cell_type": "code",
   "execution_count": null,
   "metadata": {},
   "outputs": [],
   "source": [
    "plot(m5[:slrcost, :Construct][:,1,:])"
   ]
  },
  {
   "cell_type": "code",
   "execution_count": null,
   "metadata": {},
   "outputs": [],
   "source": [
    "plot(m5[:slrcost,:discountfactor])"
   ]
  },
  {
   "cell_type": "markdown",
   "metadata": {},
   "source": [
    "Taking a look at various SSP scenarios. To change the ssp setting change the simplified ssp value as well as the corresponding value in ssp. Then assign to model and run."
   ]
  },
  {
   "cell_type": "code",
   "execution_count": null,
   "metadata": {},
   "outputs": [
    {
     "ename": "SystemError",
     "evalue": "SystemError: opening file \"learnCIAM\\\\SSP2_init.csv\": No such file or directory",
     "output_type": "error",
     "traceback": [
      "SystemError: opening file \"learnCIAM\\\\SSP2_init.csv\": No such file or directory\n",
      "\n",
      "\n",
      "\n",
      "Stacktrace:\n",
      "\n",
      "  [1] systemerror(p::String, errno::Int32; extrainfo::Nothing)\n",
      "\n",
      "    @ Base .\\error.jl:168\n",
      "\n",
      "  [2] #systemerror#62\n",
      "\n",
      "    @ .\\error.jl:167 [inlined]\n",
      "\n",
      "  [3] systemerror\n",
      "\n",
      "    @ .\\error.jl:167 [inlined]\n",
      "\n",
      "  [4] open(fname::String; lock::Bool, read::Nothing, write::Nothing, create::Nothing, truncate::Bool, append::Nothing)\n",
      "\n",
      "    @ Base .\\iostream.jl:293\n",
      "\n",
      "  [5] open(fname::String, mode::String; lock::Bool)\n",
      "\n",
      "    @ Base .\\iostream.jl:355\n",
      "\n",
      "  [6] open(fname::String, mode::String)\n",
      "\n",
      "    @ Base .\\iostream.jl:355\n",
      "\n",
      "  [7] open(::MimiCIAM.var\"#194#195\"{String, String}, ::String, ::Vararg{String, N} where N; kwargs::Base.Iterators.Pairs{Union{}, Union{}, Tuple{}, NamedTuple{(), Tuple{}}})\n",
      "\n",
      "    @ Base .\\io.jl:328\n",
      "\n",
      "  [8] open\n",
      "\n",
      "    @ .\\io.jl:328 [inlined]\n",
      "\n",
      "  [9] write_init_file(run_name::String, outputdir::String, init_settings::Dict{Symbol, Any})\n",
      "\n",
      "    @ MimiCIAM C:\\Users\\dakes\\.julia\\packages\\MimiCIAM\\dbhiy\\src\\ciamhelper.jl:839\n",
      "\n",
      " [10] top-level scope\n",
      "\n",
      "    @ c:\\Users\\dakes\\OneDrive\\Documents\\GitHub\\sDake-Mimi\\learnCIAM\\param.ipynb:12"
     ]
    }
   ],
   "source": [
    "#Title the run name\n",
    "run_name = \"SSP2\"\n",
    "#change ssp levels line 4 and 5 of dict\n",
    "init_settings = Dict(\n",
    "        :init_filename   => string(\"$run_name\", \"_init.csv\"),\n",
    "        :lslrfile        => \"lsl_rcp85_p50.csv\",\n",
    "        :subset          => false,\n",
    "        :ssp             => \"IIASAGDP_SSP2_v9_130219\",\n",
    "        :ssp_simplified  => 2\n",
    "    )"
   ]
  }
 ],
 "metadata": {
  "kernelspec": {
   "display_name": "Julia 1.6.7",
   "language": "julia",
   "name": "julia-1.6"
  },
  "language_info": {
   "file_extension": ".jl",
   "mimetype": "application/julia",
   "name": "julia",
   "version": "1.6.7"
  },
  "orig_nbformat": 4
 },
 "nbformat": 4,
 "nbformat_minor": 2
}
