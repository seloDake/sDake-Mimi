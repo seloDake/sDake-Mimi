{
 "cells": [
  {
   "attachments": {},
   "cell_type": "markdown",
   "metadata": {},
   "source": [
    "This is for running the different Checking a single segment.\n"
   ]
  },
  {
   "cell_type": "code",
   "execution_count": 8,
   "metadata": {},
   "outputs": [],
   "source": [
    "#initiate Model\n",
    "using Mimi\n",
    "using MimiCIAM\n",
    "using CSV\n",
    "using Plots"
   ]
  },
  {
   "attachments": {},
   "cell_type": "markdown",
   "metadata": {},
   "source": [
    "Open the csv file for lat long data and test if it works."
   ]
  },
  {
   "cell_type": "code",
   "execution_count": 9,
   "metadata": {},
   "outputs": [
    {
     "data": {
      "text/plain": [
       "12148-element CSV.File:\n",
       " CSV.Row: (segments = String31(\"Canada5106\"), segid = 5106, longi = -122.645, lati = 75.918)\n",
       " CSV.Row: (segments = String31(\"Canada5115\"), segid = 5115, longi = -121.031, lati = 75.891)\n",
       " CSV.Row: (segments = String31(\"Canada5120\"), segid = 5120, longi = -116.799, lati = 77.534)\n",
       " CSV.Row: (segments = String31(\"Canada5132\"), segid = 5132, longi = -118.191, lati = 75.968)\n",
       " CSV.Row: (segments = String31(\"Canada5166\"), segid = 5166, longi = -115.022, lati = 74.963)\n",
       " CSV.Row: (segments = String31(\"Canada5167\"), segid = 5167, longi = -114.982, lati = 75.853)\n",
       " CSV.Row: (segments = String31(\"Canada5202\"), segid = 5202, longi = -115.077, lati = 77.939)\n",
       " CSV.Row: (segments = String31(\"Canada5168\"), segid = 5168, longi = -112.533, lati = 74.995)\n",
       " CSV.Row: (segments = String31(\"Canada5169\"), segid = 5169, longi = -112.433, lati = 76.163)\n",
       " CSV.Row: (segments = String31(\"Canada5171\"), segid = 5171, longi = -111.468, lati = 75.838)\n",
       " ⋮\n",
       " CSV.Row: (segments = String31(\"Peru3955\"), segid = 3955, longi = -76.657, lati = -12.711)\n",
       " CSV.Row: (segments = String31(\"Peru3956\"), segid = 3956, longi = -76.415, lati = -13.124)\n",
       " CSV.Row: (segments = String31(\"Peru3957\"), segid = 3957, longi = -76.198, lati = -13.416)\n",
       " CSV.Row: (segments = String31(\"Peru3958\"), segid = 3958, longi = -76.204, lati = -13.644)\n",
       " CSV.Row: (segments = String31(\"Peru3959\"), segid = 3959, longi = -75.938, lati = -14.61)\n",
       " CSV.Row: (segments = String31(\"Peru3960\"), segid = 3960, longi = -73.441, lati = -16.288)\n",
       " CSV.Row: (segments = String31(\"Peru3961\"), segid = 3961, longi = -71.65, lati = -17.231)\n",
       " CSV.Row: (segments = String31(\"Peru3962\"), segid = 3962, longi = -71.43, lati = -17.38)\n",
       " CSV.Row: (segments = String31(\"Peru3963\"), segid = 3963, longi = -71.336, lati = -17.656)"
      ]
     },
     "metadata": {},
     "output_type": "display_data"
    }
   ],
   "source": [
    "latlondata = CSV.File(\"seg_latlon_data.csv\")\n"
   ]
  },
  {
   "attachments": {},
   "cell_type": "markdown",
   "metadata": {},
   "source": [
    "Make a new dict to house the values of the distances between segments and NOLA.The key will be the distances and the values will be the segment names. Also make a array that will hold just the distances. This will allow us to index through distances."
   ]
  },
  {
   "cell_type": "code",
   "execution_count": 10,
   "metadata": {},
   "outputs": [
    {
     "name": "stdout",
     "output_type": "stream",
     "text": [
      "Distance Dictionay = Dict{Float64, String31}()"
     ]
    }
   ],
   "source": [
    "d_list = []\n",
    "Dist = Dict{Float64, String31}()\n",
    "print(\"Distance Dictionay = \",Dist)\n"
   ]
  },
  {
   "attachments": {},
   "cell_type": "markdown",
   "metadata": {},
   "source": [
    "Read through the csv and find the distances between each segment and NOLA. NOLA coordinates(29.95, -90.07)"
   ]
  },
  {
   "cell_type": "code",
   "execution_count": 11,
   "metadata": {},
   "outputs": [],
   "source": [
    "for row in latlondata\n",
    "    # Set variables\n",
    "    seg = row.segments\n",
    "    segid = row.segid\n",
    "    lon = row.longi\n",
    "    lat = row.lati\n",
    "    nola_x = -90.07\n",
    "    nola_y = 29.95\n",
    "    # lat/long are radians so adjust to radians\n",
    "    x = deg2rad(lon - nola_x) * cos(deg2rad((lat + nola_y)/2))\n",
    "    y = deg2rad(lat - nola_y)\n",
    "    # eliminate duplicates\n",
    "    if lon < 0 && lat > 0\n",
    "        # solve for the distance of each segment using distance formula\n",
    "        dis = 6371000 * sqrt((x^2 + y^2)) # lat/lon values for NOLA are hard coded\n",
    "        # add the distance to the empty dictionary with the name as the value aswell as a list for storage\n",
    "        push!(d_list, dis)\n",
    "        Add = Dict{Float64, String31}( dis => seg)\n",
    "        merge!(Dist,Add)\n",
    "    end\n",
    "    \n",
    "end\n",
    "#println(Dist[d_list[1]])"
   ]
  },
  {
   "attachments": {},
   "cell_type": "markdown",
   "metadata": {},
   "source": [
    "Now set val variable with first value. index through distances and compare in order to find the lowest distance to NOLA."
   ]
  },
  {
   "cell_type": "code",
   "execution_count": 12,
   "metadata": {},
   "outputs": [
    {
     "data": {
      "text/plain": [
       "\"UnitedStates4623\""
      ]
     },
     "metadata": {},
     "output_type": "display_data"
    }
   ],
   "source": [
    "close = minimum(d_list)\n",
    "Dist[close]\n"
   ]
  },
  {
   "attachments": {},
   "cell_type": "markdown",
   "metadata": {},
   "source": [
    "Create a subset csv file housing the single segment."
   ]
  },
  {
   "cell_type": "code",
   "execution_count": 23,
   "metadata": {},
   "outputs": [
    {
     "data": {
      "text/plain": [
       "\"/Users/dakes/OneDrive/Documents/GitHub/sDake-Mimi/learnCIAM/single_seg.csv\""
      ]
     },
     "metadata": {},
     "output_type": "display_data"
    }
   ],
   "source": [
    "NOLA_subset = \"/Users/dakes/OneDrive/Documents/GitHub/sDake-Mimi/learnCIAM/single_seg.csv\""
   ]
  },
  {
   "attachments": {},
   "cell_type": "markdown",
   "metadata": {},
   "source": [
    "Edit ssp init files in order to run multiple models of the segment. To edit change subset collumn to say the NOLA subset. run get model using the updated initfiles."
   ]
  },
  {
   "cell_type": "code",
   "execution_count": 27,
   "metadata": {},
   "outputs": [
    {
     "ename": "SystemError",
     "evalue": "SystemError: opening file \"C:\\\\Users\\\\dakes\\\\.julia\\\\packages\\\\MimiCIAM\\\\dbhiy\\\\src\\\\..\\\\data\\\\subsets\\\\GitHub/sDake-Mimi/learnCIAM/single_seg.csv\": No such file or directory",
     "output_type": "error",
     "traceback": [
      "SystemError: opening file \"C:\\\\Users\\\\dakes\\\\.julia\\\\packages\\\\MimiCIAM\\\\dbhiy\\\\src\\\\..\\\\data\\\\subsets\\\\GitHub/sDake-Mimi/learnCIAM/single_seg.csv\": No such file or directory\n",
      "\n",
      "Stacktrace:\n",
      "  [1] systemerror(p::String, errno::Int32; extrainfo::Nothing)\n",
      "    @ Base .\\error.jl:168\n",
      "  [2] #systemerror#62\n",
      "    @ .\\error.jl:167 [inlined]\n",
      "  [3] systemerror\n",
      "    @ .\\error.jl:167 [inlined]\n",
      "  [4] open(fname::String; lock::Bool, read::Nothing, write::Nothing, create::Nothing, truncate::Nothing, append::Nothing)\n",
      "    @ Base .\\iostream.jl:293\n",
      "  [5] open\n",
      "    @ .\\iostream.jl:282 [inlined]\n",
      "  [6] open(f::Base.var\"#338#339\"{Base.Iterators.Pairs{Union{}, Union{}, Tuple{}, NamedTuple{(), Tuple{}}}}, args::String; kwargs::Base.Iterators.Pairs{Union{}, Union{}, Tuple{}, NamedTuple{(), Tuple{}}})\n",
      "    @ Base .\\io.jl:328\n",
      "  [7] open\n",
      "    @ .\\io.jl:328 [inlined]\n",
      "  [8] #readlines#337\n",
      "    @ .\\io.jl:547 [inlined]\n",
      "  [9] readlines\n",
      "    @ .\\io.jl:547 [inlined]\n",
      " [10] load_subset\n",
      "    @ C:\\Users\\dakes\\.julia\\packages\\MimiCIAM\\dbhiy\\src\\ciamhelper.jl:336 [inlined]\n",
      " [11] import_model_data(lslfile::String31, sub::String, ssp::String31, ssp_simplified::Int64, popinput::Int64, surgeoption::Int64)\n",
      "    @ MimiCIAM C:\\Users\\dakes\\.julia\\packages\\MimiCIAM\\dbhiy\\src\\ciamhelper.jl:365\n",
      " [12] get_model(; initfile::String, fixed::Bool, t::Int64, noRetreat::Bool, allowMaintain::Bool, popinput::Int64, GAMSmatch::Bool, surgeoption::Int64)\n",
      "    @ MimiCIAM C:\\Users\\dakes\\.julia\\packages\\MimiCIAM\\dbhiy\\src\\ciam.jl:92\n",
      " [13] top-level scope\n",
      "    @ c:\\Users\\dakes\\OneDrive\\Documents\\GitHub\\sDake-Mimi\\learnCIAM\\s_segment.ipynb:2"
     ]
    }
   ],
   "source": [
    "# ssp1\n",
    "m1 =MimiCIAM.get_model(initfile = \"ssp1_init.csv\")\n",
    "run(m1)\n",
    "y1 = m1[:slrcost,:NoAdaptCost]"
   ]
  },
  {
   "cell_type": "code",
   "execution_count": 15,
   "metadata": {},
   "outputs": [
    {
     "ename": "SystemError",
     "evalue": "SystemError: opening file \"C:\\\\Users\\\\dakes\\\\.julia\\\\packages\\\\MimiCIAM\\\\dbhiy\\\\src\\\\..\\\\data\\\\subsets\\\\single_seg.csv\": No such file or directory",
     "output_type": "error",
     "traceback": [
      "SystemError: opening file \"C:\\\\Users\\\\dakes\\\\.julia\\\\packages\\\\MimiCIAM\\\\dbhiy\\\\src\\\\..\\\\data\\\\subsets\\\\single_seg.csv\": No such file or directory\n",
      "\n",
      "Stacktrace:\n",
      "  [1] systemerror(p::String, errno::Int32; extrainfo::Nothing)\n",
      "    @ Base .\\error.jl:168\n",
      "  [2] #systemerror#62\n",
      "    @ .\\error.jl:167 [inlined]\n",
      "  [3] systemerror\n",
      "    @ .\\error.jl:167 [inlined]\n",
      "  [4] open(fname::String; lock::Bool, read::Nothing, write::Nothing, create::Nothing, truncate::Nothing, append::Nothing)\n",
      "    @ Base .\\iostream.jl:293\n",
      "  [5] open\n",
      "    @ .\\iostream.jl:282 [inlined]\n",
      "  [6] open(f::Base.var\"#338#339\"{Base.Iterators.Pairs{Union{}, Union{}, Tuple{}, NamedTuple{(), Tuple{}}}}, args::String; kwargs::Base.Iterators.Pairs{Union{}, Union{}, Tuple{}, NamedTuple{(), Tuple{}}})\n",
      "    @ Base .\\io.jl:328\n",
      "  [7] open\n",
      "    @ .\\io.jl:328 [inlined]\n",
      "  [8] #readlines#337\n",
      "    @ .\\io.jl:547 [inlined]\n",
      "  [9] readlines\n",
      "    @ .\\io.jl:547 [inlined]\n",
      " [10] load_subset\n",
      "    @ C:\\Users\\dakes\\.julia\\packages\\MimiCIAM\\dbhiy\\src\\ciamhelper.jl:336 [inlined]\n",
      " [11] import_model_data(lslfile::String31, sub::String15, ssp::String31, ssp_simplified::Int64, popinput::Int64, surgeoption::Int64)\n",
      "    @ MimiCIAM C:\\Users\\dakes\\.julia\\packages\\MimiCIAM\\dbhiy\\src\\ciamhelper.jl:365\n",
      " [12] get_model(; initfile::String, fixed::Bool, t::Int64, noRetreat::Bool, allowMaintain::Bool, popinput::Int64, GAMSmatch::Bool, surgeoption::Int64)\n",
      "    @ MimiCIAM C:\\Users\\dakes\\.julia\\packages\\MimiCIAM\\dbhiy\\src\\ciam.jl:92\n",
      " [13] top-level scope\n",
      "    @ c:\\Users\\dakes\\OneDrive\\Documents\\GitHub\\sDake-Mimi\\learnCIAM\\s_segment.ipynb:2"
     ]
    }
   ],
   "source": [
    "# ssp2\n",
    "m2 =MimiCIAM.get_model(initfile = \"ssp2_init.csv\")\n",
    "run(m2)\n",
    "y2 = m2[:slrcost,:NoAdaptCost]"
   ]
  },
  {
   "cell_type": "code",
   "execution_count": 16,
   "metadata": {},
   "outputs": [
    {
     "ename": "SystemError",
     "evalue": "SystemError: opening file \"C:\\\\Users\\\\dakes\\\\.julia\\\\packages\\\\MimiCIAM\\\\dbhiy\\\\src\\\\..\\\\data\\\\subsets\\\\single_seg.csv\": No such file or directory",
     "output_type": "error",
     "traceback": [
      "SystemError: opening file \"C:\\\\Users\\\\dakes\\\\.julia\\\\packages\\\\MimiCIAM\\\\dbhiy\\\\src\\\\..\\\\data\\\\subsets\\\\single_seg.csv\": No such file or directory\n",
      "\n",
      "Stacktrace:\n",
      "  [1] systemerror(p::String, errno::Int32; extrainfo::Nothing)\n",
      "    @ Base .\\error.jl:168\n",
      "  [2] #systemerror#62\n",
      "    @ .\\error.jl:167 [inlined]\n",
      "  [3] systemerror\n",
      "    @ .\\error.jl:167 [inlined]\n",
      "  [4] open(fname::String; lock::Bool, read::Nothing, write::Nothing, create::Nothing, truncate::Nothing, append::Nothing)\n",
      "    @ Base .\\iostream.jl:293\n",
      "  [5] open\n",
      "    @ .\\iostream.jl:282 [inlined]\n",
      "  [6] open(f::Base.var\"#338#339\"{Base.Iterators.Pairs{Union{}, Union{}, Tuple{}, NamedTuple{(), Tuple{}}}}, args::String; kwargs::Base.Iterators.Pairs{Union{}, Union{}, Tuple{}, NamedTuple{(), Tuple{}}})\n",
      "    @ Base .\\io.jl:328\n",
      "  [7] open\n",
      "    @ .\\io.jl:328 [inlined]\n",
      "  [8] #readlines#337\n",
      "    @ .\\io.jl:547 [inlined]\n",
      "  [9] readlines\n",
      "    @ .\\io.jl:547 [inlined]\n",
      " [10] load_subset\n",
      "    @ C:\\Users\\dakes\\.julia\\packages\\MimiCIAM\\dbhiy\\src\\ciamhelper.jl:336 [inlined]\n",
      " [11] import_model_data(lslfile::String31, sub::String15, ssp::String31, ssp_simplified::Int64, popinput::Int64, surgeoption::Int64)\n",
      "    @ MimiCIAM C:\\Users\\dakes\\.julia\\packages\\MimiCIAM\\dbhiy\\src\\ciamhelper.jl:365\n",
      " [12] get_model(; initfile::String, fixed::Bool, t::Int64, noRetreat::Bool, allowMaintain::Bool, popinput::Int64, GAMSmatch::Bool, surgeoption::Int64)\n",
      "    @ MimiCIAM C:\\Users\\dakes\\.julia\\packages\\MimiCIAM\\dbhiy\\src\\ciam.jl:92\n",
      " [13] top-level scope\n",
      "    @ c:\\Users\\dakes\\OneDrive\\Documents\\GitHub\\sDake-Mimi\\learnCIAM\\s_segment.ipynb:2"
     ]
    }
   ],
   "source": [
    "# ssp3\n",
    "m3 =MimiCIAM.get_model(initfile = \"ssp3_init.csv\")\n",
    "run(m3)\n",
    "y3 = m3[:slrcost,:NoAdaptCost]"
   ]
  },
  {
   "cell_type": "code",
   "execution_count": 17,
   "metadata": {},
   "outputs": [
    {
     "ename": "SystemError",
     "evalue": "SystemError: opening file \"C:\\\\Users\\\\dakes\\\\.julia\\\\packages\\\\MimiCIAM\\\\dbhiy\\\\src\\\\..\\\\data\\\\subsets\\\\single_seg.csv\": No such file or directory",
     "output_type": "error",
     "traceback": [
      "SystemError: opening file \"C:\\\\Users\\\\dakes\\\\.julia\\\\packages\\\\MimiCIAM\\\\dbhiy\\\\src\\\\..\\\\data\\\\subsets\\\\single_seg.csv\": No such file or directory\n",
      "\n",
      "Stacktrace:\n",
      "  [1] systemerror(p::String, errno::Int32; extrainfo::Nothing)\n",
      "    @ Base .\\error.jl:168\n",
      "  [2] #systemerror#62\n",
      "    @ .\\error.jl:167 [inlined]\n",
      "  [3] systemerror\n",
      "    @ .\\error.jl:167 [inlined]\n",
      "  [4] open(fname::String; lock::Bool, read::Nothing, write::Nothing, create::Nothing, truncate::Nothing, append::Nothing)\n",
      "    @ Base .\\iostream.jl:293\n",
      "  [5] open\n",
      "    @ .\\iostream.jl:282 [inlined]\n",
      "  [6] open(f::Base.var\"#338#339\"{Base.Iterators.Pairs{Union{}, Union{}, Tuple{}, NamedTuple{(), Tuple{}}}}, args::String; kwargs::Base.Iterators.Pairs{Union{}, Union{}, Tuple{}, NamedTuple{(), Tuple{}}})\n",
      "    @ Base .\\io.jl:328\n",
      "  [7] open\n",
      "    @ .\\io.jl:328 [inlined]\n",
      "  [8] #readlines#337\n",
      "    @ .\\io.jl:547 [inlined]\n",
      "  [9] readlines\n",
      "    @ .\\io.jl:547 [inlined]\n",
      " [10] load_subset\n",
      "    @ C:\\Users\\dakes\\.julia\\packages\\MimiCIAM\\dbhiy\\src\\ciamhelper.jl:336 [inlined]\n",
      " [11] import_model_data(lslfile::String31, sub::String15, ssp::String31, ssp_simplified::Int64, popinput::Int64, surgeoption::Int64)\n",
      "    @ MimiCIAM C:\\Users\\dakes\\.julia\\packages\\MimiCIAM\\dbhiy\\src\\ciamhelper.jl:365\n",
      " [12] get_model(; initfile::String, fixed::Bool, t::Int64, noRetreat::Bool, allowMaintain::Bool, popinput::Int64, GAMSmatch::Bool, surgeoption::Int64)\n",
      "    @ MimiCIAM C:\\Users\\dakes\\.julia\\packages\\MimiCIAM\\dbhiy\\src\\ciam.jl:92\n",
      " [13] top-level scope\n",
      "    @ c:\\Users\\dakes\\OneDrive\\Documents\\GitHub\\sDake-Mimi\\learnCIAM\\s_segment.ipynb:2"
     ]
    }
   ],
   "source": [
    "# ssp4\n",
    "m4 =MimiCIAM.get_model(initfile = \"ssp4_init.csv\")\n",
    "run(m4)\n",
    "y4 = m4[:slrcost,:NoAdaptCost]"
   ]
  },
  {
   "cell_type": "code",
   "execution_count": 18,
   "metadata": {},
   "outputs": [
    {
     "ename": "SystemError",
     "evalue": "SystemError: opening file \"C:\\\\Users\\\\dakes\\\\.julia\\\\packages\\\\MimiCIAM\\\\dbhiy\\\\src\\\\..\\\\data\\\\subsets\\\\single_seg.csv\": No such file or directory",
     "output_type": "error",
     "traceback": [
      "SystemError: opening file \"C:\\\\Users\\\\dakes\\\\.julia\\\\packages\\\\MimiCIAM\\\\dbhiy\\\\src\\\\..\\\\data\\\\subsets\\\\single_seg.csv\": No such file or directory\n",
      "\n",
      "Stacktrace:\n",
      "  [1] systemerror(p::String, errno::Int32; extrainfo::Nothing)\n",
      "    @ Base .\\error.jl:168\n",
      "  [2] #systemerror#62\n",
      "    @ .\\error.jl:167 [inlined]\n",
      "  [3] systemerror\n",
      "    @ .\\error.jl:167 [inlined]\n",
      "  [4] open(fname::String; lock::Bool, read::Nothing, write::Nothing, create::Nothing, truncate::Nothing, append::Nothing)\n",
      "    @ Base .\\iostream.jl:293\n",
      "  [5] open\n",
      "    @ .\\iostream.jl:282 [inlined]\n",
      "  [6] open(f::Base.var\"#338#339\"{Base.Iterators.Pairs{Union{}, Union{}, Tuple{}, NamedTuple{(), Tuple{}}}}, args::String; kwargs::Base.Iterators.Pairs{Union{}, Union{}, Tuple{}, NamedTuple{(), Tuple{}}})\n",
      "    @ Base .\\io.jl:328\n",
      "  [7] open\n",
      "    @ .\\io.jl:328 [inlined]\n",
      "  [8] #readlines#337\n",
      "    @ .\\io.jl:547 [inlined]\n",
      "  [9] readlines\n",
      "    @ .\\io.jl:547 [inlined]\n",
      " [10] load_subset\n",
      "    @ C:\\Users\\dakes\\.julia\\packages\\MimiCIAM\\dbhiy\\src\\ciamhelper.jl:336 [inlined]\n",
      " [11] import_model_data(lslfile::String31, sub::String15, ssp::String31, ssp_simplified::Int64, popinput::Int64, surgeoption::Int64)\n",
      "    @ MimiCIAM C:\\Users\\dakes\\.julia\\packages\\MimiCIAM\\dbhiy\\src\\ciamhelper.jl:365\n",
      " [12] get_model(; initfile::String, fixed::Bool, t::Int64, noRetreat::Bool, allowMaintain::Bool, popinput::Int64, GAMSmatch::Bool, surgeoption::Int64)\n",
      "    @ MimiCIAM C:\\Users\\dakes\\.julia\\packages\\MimiCIAM\\dbhiy\\src\\ciam.jl:92\n",
      " [13] top-level scope\n",
      "    @ c:\\Users\\dakes\\OneDrive\\Documents\\GitHub\\sDake-Mimi\\learnCIAM\\s_segment.ipynb:2"
     ]
    }
   ],
   "source": [
    "# ssp5\n",
    "m4 =MimiCIAM.get_model(initfile = \"ssp5_init.csv\")\n",
    "run(m5)\n",
    "y5 = m5[:slrcost,:NoAdaptCost]"
   ]
  },
  {
   "attachments": {},
   "cell_type": "markdown",
   "metadata": {},
   "source": [
    "create a plot with the different values from the various adapt costs."
   ]
  },
  {
   "cell_type": "code",
   "execution_count": 19,
   "metadata": {},
   "outputs": [
    {
     "ename": "UndefVarError",
     "evalue": "UndefVarError: y1 not defined",
     "output_type": "error",
     "traceback": [
      "UndefVarError: y1 not defined\n",
      "\n",
      "Stacktrace:\n",
      " [1] top-level scope\n",
      "   @ c:\\Users\\dakes\\OneDrive\\Documents\\GitHub\\sDake-Mimi\\learnCIAM\\s_segment.ipynb:2"
     ]
    }
   ],
   "source": [
    "x = range(0, 20, length = 100)\n",
    "plot(x, [y1, y2, y3, y4, y5],  title=\"NoAdaptCost for NOLA\", label=[\"SSP1\" \"SSP2\" \"SSP3\" \"SSP4\" \"SSP5\"], linewidth=3)\n",
    "xlabel!(\"Years\")\n",
    "ylabel!(\"NoAdaptCost\")"
   ]
  }
 ],
 "metadata": {
  "kernelspec": {
   "display_name": "Julia 1.6.7",
   "language": "julia",
   "name": "julia-1.6"
  },
  "language_info": {
   "file_extension": ".jl",
   "mimetype": "application/julia",
   "name": "julia",
   "version": "1.6.7"
  },
  "orig_nbformat": 4
 },
 "nbformat": 4,
 "nbformat_minor": 2
}
